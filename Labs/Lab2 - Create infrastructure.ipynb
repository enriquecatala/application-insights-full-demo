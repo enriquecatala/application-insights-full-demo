{
    "metadata": {
        "kernelspec": {
            "name": "python3",
            "display_name": "Python 3"
        },
        "language_info": {
            "name": "python",
            "version": "3.8.0-final",
            "mimetype": "text/x-python",
            "codemirror_mode": {
                "name": "ipython",
                "version": 3
            },
            "pygments_lexer": "ipython3",
            "nbconvert_exporter": "python",
            "file_extension": ".py"
        }
    },
    "nbformat_minor": 2,
    "nbformat": 4,
    "cells": [
        {
            "cell_type": "markdown",
            "metadata": {
                "azdata_cell_guid": "593cd201-6173-4ad3-a7d5-f793425c8deb"
            },
            "source": [
                "# Create infrastructure for the full demo of application insights\n",
                "\n",
                "# Setup\n",
                "\n",
                "Validate prerequisites..."
            ]
        },
        {
            "cell_type": "code",
            "execution_count": 2,
            "metadata": {},
            "outputs": [],
            "source": [
                "import pandas,sys,os,json,html,getpass,time\n",
                "pandas_version = pandas.__version__.split('.')\n",
                "pandas_major = int(pandas_version[0])\n",
                "pandas_minor = int(pandas_version[1])\n",
                "pandas_patch = int(pandas_version[2])\n",
                "if not (pandas_major > 0 or (pandas_major == 0 and pandas_minor > 24) or (pandas_major == 0 and pandas_minor == 24 and pandas_patch >= 2)):\n",
                "    sys.exit('Please upgrade the Notebook dependency before you can proceed, you can do it by running the \"Reinstall Notebook dependencies\" command in command palette (View menu -> Command Palette…).')\n",
                "def run_command(command):\n",
                "    print(\"Executing: \" + command)\n",
                "    !{command}\n",
                "    if _exit_code != 0:\n",
                "        sys.exit(f'Command execution failed with exit code: {str(_exit_code)}.\\n\\t{command}\\n')\n",
                "    print(f'Successfully executed: {command}')"
            ]
        },
        {
            "cell_type": "markdown",
            "metadata": {
                "azdata_cell_guid": "39b56f7a-420d-4254-a195-b7f9b643fbf6"
            },
            "source": [
                "# Set variables\n",
                "\n",
                "Change the variables acordingly."
            ]
        },
        {
            "cell_type": "code",
            "execution_count": 3,
            "metadata": {},
            "outputs": [
                {
                    "name": "stdout",
                    "output_type": "stream",
                    "text": "Variables have been set successfully.\n"
                }
            ],
            "source": [
                "# Azure\n",
                "azure_subscription_id = 'b0aa5656-5655-449f-819a-684cd2453041'\n",
                "azure_region = 'northeurope'\n",
                "azure_resource_group = 'mslearn-appinsights'\n",
                "# SQL Server\n",
                "mssql_logical_name = 'mslearn-appinsights-sqlserver'\n",
                "mssl_admin_user = 'administrador'\n",
                "mssql_password = 'PaSSw0rdñ.' # Despite it´s actual value, the password is going to be asked by command prompt\n",
                "mssql_auth_mode = 'basic'\n",
                "mssql_database_name = 'AdventureWorksDemo'  # It will deploy the sample database AdventureWorksLT database schema\n",
                "mssql_database_edition = 'Basic' # for more options https://docs.microsoft.com/en-us/cli/azure/sql/db?view=azure-cli-latest#az-sql-db-create \n",
                "# CosmosDB\n",
                "cosmosdb_account_name = 'mslearn-appinsights-cosmosdb'\n",
                "cosmosdb_database_name = 'database'\n",
                "cosmosdb_container_name = 'cosmosdbcontainer'\n",
                "cosmosdb_throughput = '400' #throughput for all containers in this setup\n",
                "\n",
                "# Environment\n",
                "os.environ[\"PATH\"] = os.environ[\"PATH\"] + \";\" + \"C:\\\\Program Files\\\\Docker\\\\Docker\\\\resources\\\\bin;C:\\\\Program Files (x86)\\\\Microsoft SDKs\\\\Azure\\\\CLI2\\\\wbin;C:\\\\Program Files (x86)\\\\Microsoft SDKs\\\\Azdata\\\\CLI\\\\wbin\"\n",
                "print('Variables have been set successfully.')\n"
            ]
        },
        {
            "cell_type": "markdown",
            "metadata": {
                "azdata_cell_guid": "4e0b418e-ae47-4464-b035-a88b8ff0d0f1"
            },
            "source": [
                "## Password by command prompt"
            ]
        },
        {
            "cell_type": "code",
            "execution_count": 8,
            "metadata": {
                "azdata_cell_guid": "ee1258fa-dce0-4cd5-a6e9-35e306406598"
            },
            "outputs": [
                {
                    "name": "stdout",
                    "output_type": "stream",
                    "text": "You can also use the controller password to access Knox and SQL Server.\n"
                }
            ],
            "source": [
                "invoked_by_wizard = \"PYTHON_VAR_ADMIN_PASSWORD\" in os.environ\n",
                "if invoked_by_wizard:\n",
                "    mssql_password = os.environ[\"PYTHON_VAR_ADMIN_PASSWORD\"]\n",
                "else:\n",
                "    mssql_password = getpass.getpass(prompt = 'Controller password')\n",
                "    if mssql_password == \"\":\n",
                "        sys.exit(f'Password is required.')\n",
                "    confirm_password = getpass.getpass(prompt = 'Confirm password')\n",
                "    if mssql_password != confirm_password:\n",
                "        sys.exit(f'Passwords do not match.')\n",
                "print('You can also use the controller password to access Knox and SQL Server.')"
            ]
        },
        {
            "cell_type": "markdown",
            "metadata": {
                "azdata_cell_guid": "a5ff0056-3af7-47ee-bcf1-6bf128b15a1f"
            },
            "source": [
                "# Login to Azure"
            ]
        },
        {
            "cell_type": "code",
            "execution_count": 4,
            "metadata": {},
            "outputs": [
                {
                    "name": "stdout",
                    "output_type": "stream",
                    "text": "Executing: az login\n[\n  {\n    \"cloudName\": \"AzureCloud\",\n    \"homeTenantId\": \"829b7506-5cd7-42a3-bd0f-29c3bfddf24c\",\n    \"id\": \"4beccc95-4a09-4148-8055-6b5972ff400a\",\n    \"isDefault\": false,\n    \"managedByTenants\": [],\n    \"name\": \"Visual Studio Ultimate con MSDN\",\n    \"state\": \"Enabled\",\n    \"tenantId\": \"829b7506-5cd7-42a3-bd0f-29c3bfddf24c\",\n    \"user\": {\n      \"name\": \"enrique-catala@outlook.com\",\n      \"type\": \"user\"\n    }\n  },\n  {\n    \"cloudName\": \"AzureCloud\",\n    \"homeTenantId\": \"829b7506-5cd7-42a3-bd0f-29c3bfddf24c\",\n    \"id\": \"e1c3d108-7f5f-45f9-bbf7-7098514e425d\",\n    \"isDefault\": false,\n    \"managedByTenants\": [],\n    \"name\": \"Plataformas de MSDN\",\n    \"state\": \"Enabled\",\n    \"tenantId\": \"829b7506-5cd7-42a3-bd0f-29c3bfddf24c\",\n    \"user\": {\n      \"name\": \"enrique-catala@outlook.com\",\n      \"type\": \"user\"\n    }\n  },\n  {\n    \"cloudName\": \"AzureCloud\",\n    \"homeTenantId\": \"829b7506-5cd7-42a3-bd0f-29c3bfddf24c\",\n    \"id\": \"d4d355d3-0f93-4736-939a-4c75f3de6056\",\n    \"isDefault\": false,\n    \"managedByTenants\": [],\n    \"name\": \"Visual Studio Premium con MSDN\",\n    \"state\": \"Enabled\",\n    \"tenantId\": \"829b7506-5cd7-42a3-bd0f-29c3bfddf24c\",\n    \"user\": {\n      \"name\": \"enrique-catala@outlook.com\",\n      \"type\": \"user\"\n    }\n  },\n  {\n    \"cloudName\": \"AzureCloud\",\n    \"homeTenantId\": \"829b7506-5cd7-42a3-bd0f-29c3bfddf24c\",\n    \"id\": \"b0aa5656-5655-449f-819a-684cd2453041\",\n    \"isDefault\": true,\n    \"managedByTenants\": [\n      {\n        \"tenantId\": \"2f4a9838-26b7-47ee-be60-ccc1fdec5953\"\n      }\n    ],\n    \"name\": \"Microsoft Azure Sponsorship\",\n    \"state\": \"Enabled\",\n    \"tenantId\": \"829b7506-5cd7-42a3-bd0f-29c3bfddf24c\",\n    \"user\": {\n      \"name\": \"enrique-catala@outlook.com\",\n      \"type\": \"user\"\n    }\n  },\n  {\n    \"cloudName\": \"AzureCloud\",\n    \"homeTenantId\": \"829b7506-5cd7-42a3-bd0f-29c3bfddf24c\",\n    \"id\": \"3573d9c3-62fd-4ac5-bd4d-3a174f04eefd\",\n    \"isDefault\": false,\n    \"managedByTenants\": [],\n    \"name\": \"Patrocinio de Microsoft Azure\",\n    \"state\": \"Enabled\",\n    \"tenantId\": \"829b7506-5cd7-42a3-bd0f-29c3bfddf24c\",\n    \"user\": {\n      \"name\": \"enrique-catala@outlook.com\",\n      \"type\": \"user\"\n    }\n  },\n  {\n    \"cloudName\": \"AzureCloud\",\n    \"homeTenantId\": \"b3fcaea1-cd48-4b78-a66e-70556eece7ef\",\n    \"id\": \"6627e12a-0ed3-4594-a940-d544fb2ead2d\",\n    \"isDefault\": false,\n    \"managedByTenants\": [],\n    \"name\": \"Suscripcion SolidQ\",\n    \"state\": \"Enabled\",\n    \"tenantId\": \"b3fcaea1-cd48-4b78-a66e-70556eece7ef\",\n    \"user\": {\n      \"name\": \"enrique-catala@outlook.com\",\n      \"type\": \"user\"\n    }\n  }\n]\nSuccessfully executed: az login\nWARNING: You have logged in. Now let us find all the subscriptions to which you have access...\nWARNING: Failed to authenticate '{'additional_properties': {'countryCode': 'ES', 'domains': ['aidatalks.es', 'solidq.onmicrosoft.com', 'solidq.mail.onmicrosoft.com', 'ndsoft.com.ar', 'solidq.com.au', 'solidq.es', 'solidq.net.au', 'solidqaustralia.com.au', 'solidquality.com.au', 'solidqualitylearning.com', 'solidqflex.com', 'solidqflexservices.com', 'ccamn.com', 'solidq.com', 'aidataanalytics.com'], 'tenantCategory': 'Home', 'displayName': 'VERNE INFORMATION TECHNOLOGY, SL'}, 'id': '/tenants/35069d74-1489-4194-80c7-3a81385ead5b', 'tenant_id': '35069d74-1489-4194-80c7-3a81385ead5b'}' due to error 'Get Token request returned http error: 400 and server response: {\"error\":\"interaction_required\",\"error_description\":\"AADSTS50079: Due to a configuration change made by your administrator, or because you moved to a new location, you must enroll in multi-factor authentication to access '797f4846-ba00-4fd7-ba43-dac1f8f63013'.\\r\\nTrace ID: 2d79f1b1-2d26-4f87-8cca-15263a542400\\r\\nCorrelation ID: 1c94e5e0-e03c-4b7f-af3c-ab35c30825ab\\r\\nTimestamp: 2020-03-11 09:22:18Z\",\"error_codes\":[50079],\"timestamp\":\"2020-03-11 09:22:18Z\",\"trace_id\":\"2d79f1b1-2d26-4f87-8cca-15263a542400\",\"correlation_id\":\"1c94e5e0-e03c-4b7f-af3c-ab35c30825ab\",\"error_uri\":\"https://login.microsoftonline.com/error?code=50079\",\"suberror\":\"basic_action\"}'\n"
                }
            ],
            "source": [
                "run_command(f'az login')"
            ]
        },
        {
            "cell_type": "markdown",
            "metadata": {
                "azdata_cell_guid": "9ff83abc-0df3-478c-88c8-5a418e369acf"
            },
            "source": [
                "## Set active azure subscription"
            ]
        },
        {
            "cell_type": "code",
            "execution_count": 5,
            "metadata": {},
            "outputs": [
                {
                    "name": "stdout",
                    "output_type": "stream",
                    "text": "Executing: az account set --subscription b0aa5656-5655-449f-819a-684cd2453041\nSuccessfully executed: az account set --subscription b0aa5656-5655-449f-819a-684cd2453041\nExecuting: az account show\n{\n  \"environmentName\": \"AzureCloud\",\n  \"homeTenantId\": \"829b7506-5cd7-42a3-bd0f-29c3bfddf24c\",\n  \"id\": \"b0aa5656-5655-449f-819a-684cd2453041\",\n  \"isDefault\": true,\n  \"managedByTenants\": [\n    {\n      \"tenantId\": \"2f4a9838-26b7-47ee-be60-ccc1fdec5953\"\n    }\n  ],\n  \"name\": \"Microsoft Azure Sponsorship\",\n  \"state\": \"Enabled\",\n  \"tenantId\": \"829b7506-5cd7-42a3-bd0f-29c3bfddf24c\",\n  \"user\": {\n    \"name\": \"enrique-catala@outlook.com\",\n    \"type\": \"user\"\n  }\n}\nSuccessfully executed: az account show\n"
                }
            ],
            "source": [
                "if azure_subscription_id != \"\":\n",
                "    run_command(f'az account set --subscription {azure_subscription_id}')\n",
                "else:\n",
                "    print('Using the default Azure subscription', {azure_subscription_id})\n",
                "run_command(f'az account show')"
            ]
        },
        {
            "cell_type": "markdown",
            "metadata": {
                "azdata_cell_guid": "419fce50-f329-4f34-8865-d0b477481c62"
            },
            "source": [
                "# Create azure resource group"
            ]
        },
        {
            "cell_type": "code",
            "execution_count": 11,
            "metadata": {
                "azdata_cell_guid": "2c133f58-95d1-4341-bcf6-6a3efc83a588"
            },
            "outputs": [
                {
                    "name": "stdout",
                    "output_type": "stream",
                    "text": "Executing: az group create --name mslearn-appinsights --location northeurope\n{\n  \"id\": \"/subscriptions/b0aa5656-5655-449f-819a-684cd2453041/resourceGroups/mslearn-appinsights\",\n  \"location\": \"northeurope\",\n  \"managedBy\": null,\n  \"name\": \"mslearn-appinsights\",\n  \"properties\": {\n    \"provisioningState\": \"Succeeded\"\n  },\n  \"tags\": null,\n  \"type\": \"Microsoft.Resources/resourceGroups\"\n}\nSuccessfully executed: az group create --name mslearn-appinsights --location northeurope\n"
                }
            ],
            "source": [
                "run_command(f'az group create --name {azure_resource_group} --location {azure_region}')"
            ]
        },
        {
            "cell_type": "markdown",
            "metadata": {
                "azdata_cell_guid": "7de54851-6248-49e3-b007-038079cfd12a"
            },
            "source": [
                "# Create logical SQL Server\n",
                "\n",
                "If you don´t have a valid SQL Server for the demo purposes, create your instance"
            ]
        },
        {
            "cell_type": "code",
            "execution_count": 17,
            "metadata": {
                "azdata_cell_guid": "2f0ebdd9-387d-4645-9d94-ea2711b9c578"
            },
            "outputs": [
                {
                    "name": "stdout",
                    "output_type": "stream",
                    "text": "Executing: az sql server create --resource-group mslearn-appinsights --location northeurope --name mslearn-appinsights-sqlserver --admin-user \"administrador\" --admin-password \"PaSSw0rdñ.\"\n{\n  \"administratorLogin\": \"administrador\",\n  \"administratorLoginPassword\": null,\n  \"fullyQualifiedDomainName\": \"mslearn-appinsights-sqlserver.database.windows.net\",\n  \"id\": \"/subscriptions/b0aa5656-5655-449f-819a-684cd2453041/resourceGroups/mslearn-appinsights/providers/Microsoft.Sql/servers/mslearn-appinsights-sqlserver\",\n  \"identity\": null,\n  \"kind\": \"v12.0\",\n  \"location\": \"northeurope\",\n  \"name\": \"mslearn-appinsights-sqlserver\",\n  \"resourceGroup\": \"mslearn-appinsights\",\n  \"state\": \"Ready\",\n  \"tags\": null,\n  \"type\": \"Microsoft.Sql/servers\",\n  \"version\": \"12.0\"\n}\nSuccessfully executed: az sql server create --resource-group mslearn-appinsights --location northeurope --name mslearn-appinsights-sqlserver --admin-user \"administrador\" --admin-password \"PaSSw0rdñ.\"\n"
                }
            ],
            "source": [
                "run_command(f'az sql server create --name {mssql_logical_name} --resource-group {azure_resource_group} --location {azure_region} --admin-user \"{mssl_admin_user}\" --admin-password \"{mssql_password}\"')"
            ]
        },
        {
            "cell_type": "markdown",
            "metadata": {
                "azdata_cell_guid": "b25e18a4-0e74-4cb9-812e-b56610646948"
            },
            "source": [
                "## Allow access to all Azure Services\r\n",
                "\r\n",
                "Create a firewall rule to allow services to access this SQL Server. Since our apps will be WebApi, we need to add azure services connectivity"
            ]
        },
        {
            "cell_type": "code",
            "execution_count": 25,
            "metadata": {
                "azdata_cell_guid": "d2e4474e-2594-432d-8ffc-cfde96beb2c4"
            },
            "outputs": [
                {
                    "name": "stdout",
                    "output_type": "stream",
                    "text": "Executing: az sql server firewall-rule create --name AllowAllAzureServices --start-ip-address 0.0.0.0 --end-ip-address 0.0.0.0 --server mslearn-appinsights-sqlserver --resource-group mslearn-appinsights\n{\n  \"endIpAddress\": \"0.0.0.0\",\n  \"id\": \"/subscriptions/b0aa5656-5655-449f-819a-684cd2453041/resourceGroups/mslearn-appinsights/providers/Microsoft.Sql/servers/mslearn-appinsights-sqlserver/firewallRules/AllowAllAzureServices\",\n  \"kind\": \"v12.0\",\n  \"location\": \"North Europe\",\n  \"name\": \"AllowAllAzureServices\",\n  \"resourceGroup\": \"mslearn-appinsights\",\n  \"startIpAddress\": \"0.0.0.0\",\n  \"type\": \"Microsoft.Sql/servers/firewallRules\"\n}\nSuccessfully executed: az sql server firewall-rule create --name AllowAllAzureServices --start-ip-address 0.0.0.0 --end-ip-address 0.0.0.0 --server mslearn-appinsights-sqlserver --resource-group mslearn-appinsights\n"
                }
            ],
            "source": [
                "run_command(f'az sql server firewall-rule create --name AllowAllAzureServices --start-ip-address 0.0.0.0 --end-ip-address 0.0.0.0 --server {mssql_logical_name} --resource-group {azure_resource_group}')\n",
                " "
            ]
        },
        {
            "cell_type": "markdown",
            "metadata": {
                "azdata_cell_guid": "dd82d4ca-da3c-4bac-8cb6-9c6517efa450"
            },
            "source": [
                "# Deploy AdventureWorksLT sample database\n",
                "\n",
                "The database restored will have the name you wrote in the \"mssql_database_name\" variable"
            ]
        },
        {
            "cell_type": "code",
            "execution_count": 23,
            "metadata": {
                "azdata_cell_guid": "c273c6c1-2442-4803-af3f-17a41bad0800"
            },
            "outputs": [
                {
                    "name": "stdout",
                    "output_type": "stream",
                    "text": "Executing: az sql db create --name AdventureWorksDemo --sample-name AdventureWorksLT --edition Basic --server mslearn-appinsights-sqlserver --resource-group mslearn-appinsights \n{\n  \"autoPauseDelay\": null,\n  \"catalogCollation\": \"SQL_Latin1_General_CP1_CI_AS\",\n  \"collation\": \"SQL_Latin1_General_CP1_CI_AS\",\n  \"createMode\": null,\n  \"creationDate\": \"2020-03-06T12:11:39.910000+00:00\",\n  \"currentServiceObjectiveName\": \"Basic\",\n  \"currentSku\": {\n    \"capacity\": 5,\n    \"family\": null,\n    \"name\": \"Basic\",\n    \"size\": null,\n    \"tier\": \"Basic\"\n  },\n  \"databaseId\": \"779802dc-8634-4224-aa4a-6dad18a35530\",\n  \"defaultSecondaryLocation\": \"westeurope\",\n  \"earliestRestoreDate\": \"2020-03-06T12:41:39.910000+00:00\",\n  \"edition\": \"Basic\",\n  \"elasticPoolId\": null,\n  \"elasticPoolName\": null,\n  \"failoverGroupId\": null,\n  \"id\": \"/subscriptions/b0aa5656-5655-449f-819a-684cd2453041/resourceGroups/mslearn-appinsights/providers/Microsoft.Sql/servers/mslearn-appinsights-sqlserver/databases/AdventureWorksDemo\",\n  \"kind\": \"v12.0,user\",\n  \"licenseType\": null,\n  \"location\": \"northeurope\",\n  \"longTermRetentionBackupResourceId\": null,\n  \"managedBy\": null,\n  \"maxLogSizeBytes\": null,\n  \"maxSizeBytes\": 2147483648,\n  \"minCapacity\": null,\n  \"name\": \"AdventureWorksDemo\",\n  \"pausedDate\": null,\n  \"readReplicaCount\": 0,\n  \"readScale\": \"Disabled\",\n  \"recoverableDatabaseId\": null,\n  \"recoveryServicesRecoveryPointId\": null,\n  \"requestedServiceObjectiveName\": \"Basic\",\n  \"resourceGroup\": \"mslearn-appinsights\",\n  \"restorableDroppedDatabaseId\": null,\n  \"restorePointInTime\": null,\n  \"resumedDate\": null,\n  \"sampleName\": null,\n  \"sku\": {\n    \"capacity\": 5,\n    \"family\": null,\n    \"name\": \"Basic\",\n    \"size\": null,\n    \"tier\": \"Basic\"\n  },\n  \"sourceDatabaseDeletionDate\": null,\n  \"sourceDatabaseId\": null,\n  \"status\": \"Online\",\n  \"tags\": null,\n  \"type\": \"Microsoft.Sql/servers/databases\",\n  \"zoneRedundant\": false\n}\nSuccessfully executed: az sql db create --name AdventureWorksDemo --sample-name AdventureWorksLT --edition Basic --server mslearn-appinsights-sqlserver --resource-group mslearn-appinsights \n"
                }
            ],
            "source": [
                "run_command(f'az sql db create --name {mssql_database_name} --sample-name AdventureWorksLT --edition {mssql_database_edition} --server {mssql_logical_name} --resource-group {azure_resource_group} ')"
            ]
        },
        {
            "cell_type": "markdown",
            "metadata": {
                "azdata_cell_guid": "d44a6ab8-93a1-4462-80c9-52efcdf03585"
            },
            "source": [
                "# Create CosmosDB account\n",
                "\n",
                "This process will take 10m more or less"
            ]
        },
        {
            "cell_type": "code",
            "execution_count": null,
            "metadata": {
                "azdata_cell_guid": "56aaf32a-69cc-40be-85fc-926f6cfd2566"
            },
            "outputs": [
                {
                    "name": "stdout",
                    "output_type": "stream",
                    "text": "Executing: az cosmosdb create --name mslearn-appinsights-cosmosdb --resource-group mslearn-appinsights \n"
                }
            ],
            "source": [
                "run_command(f'az cosmosdb create --name {cosmosdb_account_name} --resource-group {azure_resource_group} ')"
            ]
        },
        {
            "cell_type": "markdown",
            "metadata": {
                "azdata_cell_guid": "c20b09ad-9450-43ec-bddb-4ef393eee3de"
            },
            "source": [
                "# Create CosmosDB database\r\n",
                "\r\n",
                "This process will take about ~30s"
            ]
        },
        {
            "cell_type": "code",
            "execution_count": 6,
            "metadata": {
                "azdata_cell_guid": "26d2b0e5-0bdc-40d2-9e82-783fc99eb326"
            },
            "outputs": [
                {
                    "name": "stdout",
                    "output_type": "stream",
                    "text": "Executing: az cosmosdb sql database create  --name database --account-name mslearn-appinsights-cosmosdb --resource-group mslearn-appinsights  \n"
                },
                {
                    "name": "stdout",
                    "output_type": "stream",
                    "text": "{\n  \"id\": \"/subscriptions/b0aa5656-5655-449f-819a-684cd2453041/resourceGroups/mslearn-appinsights/providers/Microsoft.DocumentDB/databaseAccounts/mslearn-appinsights-cosmosdb/sqlDatabases/database\",\n  \"location\": null,\n  \"name\": \"database\",\n  \"resource\": {\n    \"_self\": \"dbs/Um4DAA==/\",\n    \"id\": \"database\"\n  },\n  \"resourceGroup\": \"mslearn-appinsights\",\n  \"tags\": null,\n  \"type\": \"Microsoft.DocumentDB/databaseAccounts/sqlDatabases\"\n}\nSuccessfully executed: az cosmosdb sql database create  --name database --account-name mslearn-appinsights-cosmosdb --resource-group mslearn-appinsights  \n"
                },
                {
                    "name": "stderr",
                    "output_type": "stream",
                    "text": "Command group 'cosmosdb sql' is in preview. It may be changed/removed in a future release.\n"
                }
            ],
            "source": [
                "run_command(f'az cosmosdb sql database create  --name {cosmosdb_database_name} --account-name {cosmosdb_account_name} --resource-group {azure_resource_group}  ')"
            ]
        },
        {
            "cell_type": "markdown",
            "metadata": {
                "azdata_cell_guid": "4c898b50-c19f-464c-b7a7-7b77b138df76"
            },
            "source": [
                "# Create cosmosdb container\r\n",
                "\r\n",
                "This process will take about ~30s"
            ]
        },
        {
            "cell_type": "code",
            "execution_count": 6,
            "metadata": {},
            "outputs": [
                {
                    "name": "stdout",
                    "output_type": "stream",
                    "text": "Executing: az cosmosdb sql container create  --name cosmosdbcontainer --partition-key-path \"/productid\" --throughput 400 --database-name database --account-name mslearn-appinsights-cosmosdb --resource-group mslearn-appinsights  \n{\n  \"id\": \"/subscriptions/b0aa5656-5655-449f-819a-684cd2453041/resourceGroups/mslearn-appinsights/providers/Microsoft.DocumentDB/databaseAccounts/mslearn-appinsights-cosmosdb/sqlDatabases/database/containers/cosmosdbcontainer\",\n  \"location\": null,\n  \"name\": \"cosmosdbcontainer\",\n  \"resource\": {\n    \"_conflicts\": \"conflicts/\",\n    \"_docs\": \"docs/\",\n    \"_self\": \"dbs/Um4DAA==/colls/Um4DAMyozH8=/\",\n    \"_sprocs\": \"sprocs/\",\n    \"_triggers\": \"triggers/\",\n    \"_udfs\": \"udfs/\",\n    \"conflictResolutionPolicy\": {\n      \"conflictResolutionPath\": \"/_ts\",\n      \"conflictResolutionProcedure\": \"\",\n      \"mode\": \"LastWriterWins\"\n    },\n    \"defaultTtl\": null,\n    \"geospatialConfig\": {\n      \"type\": \"Geography\"\n    },\n    \"id\": \"cosmosdbcontainer\",\n    \"indexingPolicy\": {\n      \"automatic\": true,\n      \"compositeIndexes\": null,\n      \"excludedPaths\": [\n        {\n          \"path\": \"/\\\"_etag\\\"/?\"\n        }\n      ],\n      \"includedPaths\": [\n        {\n          \"indexes\": null,\n          \"path\": \"/*\"\n        }\n      ],\n      \"indexingMode\": \"consistent\",\n      \"spatialIndexes\": null\n    },\n    \"partitionKey\": {\n      \"kind\": \"Hash\",\n      \"paths\": [\n        \"/productid\"\n      ],\n      \"version\": null\n    },\n    \"statistics\": [\n      {\n        \"documentCount\": 0,\n        \"id\": \"0\",\n        \"partitionKeys\": [],\n        \"sizeInKB\": 0\n      }\n    ],\n    \"uniqueKeyPolicy\": {\n      \"uniqueKeys\": []\n    }\n  },\n  \"resourceGroup\": \"mslearn-appinsights\",\n  \"tags\": null,\n  \"type\": \"Microsoft.DocumentDB/databaseAccounts/sqlDatabases/containers\"\n}\nSuccessfully executed: az cosmosdb sql container create  --name cosmosdbcontainer --partition-key-path \"/productid\" --throughput 400 --database-name database --account-name mslearn-appinsights-cosmosdb --resource-group mslearn-appinsights  \nCommand group 'cosmosdb sql' is in preview. It may be changed/removed in a future release.\n"
                }
            ],
            "source": [
                "run_command(f'az cosmosdb sql container create  --name {cosmosdb_container_name} --partition-key-path \"/productid\" --throughput {cosmosdb_throughput} --database-name {cosmosdb_database_name} --account-name {cosmosdb_account_name} --resource-group {azure_resource_group}  ')"
            ]
        },
        {
            "cell_type": "code",
            "execution_count": 1,
            "metadata": {},
            "outputs": [
                {
                    "name": "stdout",
                    "output_type": "stream",
                    "text": "Configuration end\n"
                }
            ],
            "source": [
                "print(f'Configuration end')"
            ]
        },
        {
            "cell_type": "code",
            "execution_count": null,
            "metadata": {},
            "outputs": [],
            "source": []
        }
    ]
}